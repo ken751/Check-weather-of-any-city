{
 "cells": [
  {
   "cell_type": "markdown",
   "metadata": {},
   "source": [
    "# Check the weather of any city in the world with python\n"
   ]
  },
  {
   "cell_type": "code",
   "execution_count": 25,
   "metadata": {},
   "outputs": [
    {
     "name": "stdout",
     "output_type": "stream",
     "text": [
      "Please enter your city:austin\n",
      "<Response [200]>\n",
      " Temperature (in kelvin unit) = 295.81\n",
      " atmospheric pressure (in hPa unit) = 1010\n",
      " humidity (in percentage) = 73\n",
      " description = moderate rain\n"
     ]
    }
   ],
   "source": [
    "# Call the API\n",
    "import requests, json\n",
    "api_key = \"xxxxxxxxxxxxxxxxxxxxxxxxxxxxxxxxxxxxxxxxxx\"\n",
    "url_address = \"https://api.openweathermap.org/data/2.5/weather?\"\n",
    "\n",
    "city = input(\"Please enter your city:\")\n",
    "my_url = url_address + \"appid=\" + api_key + \"&q=\" + city\n",
    "response = requests.get(my_url)\n",
    "\n",
    "print(response)\n",
    "\n",
    "t = response.json()\n",
    "if t[\"cod\"] != \"404\":\n",
    "    u = t[\"main\"] \n",
    "    current_temperature = u[\"temp\"] \n",
    "    current_pressure = u[\"pressure\"]\n",
    "    current_humidiy = u[\"humidity\"] \n",
    "    v = t[\"weather\"] \n",
    "    weather_description = v[0][\"description\"]\n",
    "    \n",
    "    # Print the following values as outputs:\n",
    "    print(\" Temperature (in kelvin unit) = \" +\n",
    "                    str(current_temperature) + \n",
    "          \"\\n atmospheric pressure (in hPa unit) = \" +\n",
    "                    str(current_pressure) +\n",
    "          \"\\n humidity (in percentage) = \" +\n",
    "                    str(current_humidiy) +\n",
    "          \"\\n description = \" +\n",
    "                    str(weather_description)) \n",
    "  \n",
    "else: \n",
    "    print(\" City cannot be found \") \n",
    "\n"
   ]
  },
  {
   "cell_type": "code",
   "execution_count": null,
   "metadata": {},
   "outputs": [],
   "source": [
    "\n"
   ]
  }
 ],
 "metadata": {
  "kernelspec": {
   "display_name": "Python 3",
   "language": "python",
   "name": "python3"
  },
  "language_info": {
   "codemirror_mode": {
    "name": "ipython",
    "version": 3
   },
   "file_extension": ".py",
   "mimetype": "text/x-python",
   "name": "python",
   "nbconvert_exporter": "python",
   "pygments_lexer": "ipython3",
   "version": "3.7.3"
  }
 },
 "nbformat": 4,
 "nbformat_minor": 4
}
